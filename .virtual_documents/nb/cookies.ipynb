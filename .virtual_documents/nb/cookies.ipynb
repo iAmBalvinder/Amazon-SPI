import re

import browser_cookie3
import requests
import urllib3



url = "www.realtor.ca"
cj = browser_cookie3.chrome(domain_name=url)


cj





#imports
import datetime
import json
import time

import pandas as pd
import requests




cookies = {
    'visid_incap_2269415': 'dKuySBTZRYaZsMbMQjCirfh9A2UAAAAAQkIPAAAAAABAznDpYZcFyMM7WRUcDqC7',
    '_gcl_au': '1.1.353113962.1703292935',
    'visid_incap_2271082': 'HaUflPjoTLuNPOvAkQ88pgcwhmUAAAAAQUIPAAAAAAChdaYKvQ9Ax0WxclqusDS6',
    'gig_bootstrap_3_mrQiIl6ov44s2X3j6NGWVZ9SDDtplqV7WgdcyEpGYnYxl7ygDWPQHqQqtpSiUfko': 'gigya-pr_ver4',
    '_gid': 'GA1.2.1188015435.1703384519',
    'nlbi_2271082': 'Cg+8Z8/ZGmp5BKm7VPrQ3QAAAABw570aB9vV2geYIgdATq6y',
    '_ga': 'GA1.2.424061989.1703292935',
    '_ga_Y07J3B53QP': 'GS1.1.1703388261.3.1.1703388353.44.0.0',
    'incap_ses_1228_2269415': '/2TCZKzg8UHvFoXLqrwKETjCh2UAAAAAEX6WjamvvBaD2ztFdaUheA==',
    'reese84': '3:EzByY4L65fABU+F59YBuAQ==:4Nw7M9xEPbtdSgQF5mY2FhqUBj6aMm94Pp5wlDz2QDNbS4BZlNbxKy5WDRRgCIX3Np2+yBhSQp2mJUnOORxTzNTM6NY75n13tzuy4j7wctgsX2PVVLF+PqV7sb4+ofK98Mf9LEdBlWK7u3Tf/Vy2kg+bmtpkqN8TNf3mIztM3VO05GH3CuFbVmeLGxz2e85QYJyHeTSOkFxO2kLt5O6iHu9mupmlvvQ8c2tg6i8USs6MMJ23Uhw/6eYUV8Gt+vfKP4hlIJhhej0TIkQd/m9+FqH6hfPbqOPgepaW+9h5PgoITc1FMry5tq3poYR+MjBzUHba6ZgkvSkmA6Q+BE1664Jzw+dqfu/IrIrEo3a/+nDxZ7tSBGwusBiIAfvIWPfalCBhmYIAFSfgPhGexndErp2glvuIeHXKoC/mVGfQzw/YDo3Oa7dtjMTs8vJU1Y8j3fP0Yyly6ydQg9rcw3pPuw==:GnvooSAH39qJ/vpq9LxK2zgYgDBxXS/eNM2XYpaRIkQ=',
    'incap_ses_1228_2271082': 'avbjL6kO0C3ZRIbLqrwKEYPDh2UAAAAArLTmTvoELqAf5vhMyws21A==',
}

headers = {
    'authority': 'api2.realtor.ca',
    'accept': '*/*',
    'accept-language': 'en-US,en;q=0.9',
    'content-type': 'application/x-www-form-urlencoded; charset=UTF-8',
    'origin': 'https://www.realtor.ca',
    'referer': 'https://www.realtor.ca/',
    'sec-ch-ua': '"Not_A Brand";v="8", "Chromium";v="120", "Google Chrome";v="120"',
    'sec-ch-ua-mobile': '?0',
    'sec-ch-ua-platform': '"macOS"',
    'sec-fetch-dest': 'empty',
    'sec-fetch-mode': 'cors',
    'sec-fetch-site': 'same-site',
    'user-agent': 'Mozilla/5.0 (Macintosh; Intel Mac OS X 10_15_7) AppleWebKit/537.36 (KHTML, like Gecko) Chrome/120.0.0.0 Safari/537.36',
}

#Variable declarations
LatitudeMax = 43.55944
LongitudeMax = -80.28536
LatitudeMin = 43.24714
LongitudeMin = -80.60842
url = "https://api2.realtor.ca/Listing.svc/PropertySearch_Post"
max_results = 200
Prices = [{500000, 1200000}]

months = 300
rate = [ 0.0055, 0.006]
container = []


for PriceMin, PriceMax in Prices:
    print('Looking for properties (${}- ${})...'.format(PriceMin, PriceMax))

    for current_page in range(1,8):

        payload = {
        'ZoomLevel': '12',
        'LatitudeMax': LatitudeMax,
        'LongitudeMax': LongitudeMax,
        'LatitudeMin': LatitudeMin,
        'LongitudeMin': LongitudeMin,
        'Sort': '1-A',
        'PropertyTypeGroupID': '1',
        'TransactionTypeId': '2',
        'PropertySearchTypeId': '0',
        'PriceMin': PriceMin,
        'PriceMax': PriceMax,
        'BedRange': '3-0',
        'Currency': 'CAD',
        'RecordsPerPage': max_results,
        'ApplicationId': '1',
        'CultureId': '1',
        'Version': '7.0',
        "CurrentPage": current_page
        }


        try:
            response = requests.post(url, headers=headers, data=payload , cookies= cookies)
            # data = json.loads(response.text)
            # with open('data.json', 'w') as f:
            #     json.dump(data, f)
            # df = pd.read_json(data)
            # df.to_csv("output.csv", index=False)
            # break
        except:
            print('Connectin Fail... {}'.format(response.status_code))
            pass
        if response.ok:
            results = response.json()['Results']
            print('Found {} results on {} page!'.format(len(results), current_page))
            for id in results:
                container.append(id)
        else:
            print(response.status_code)
    with open("list.txt", "w") as f:
        f.write("[ \n")
        for item in container:
            # write each item on a new line
            f.write("%s\n" % item)
        f.write("]")
        print('Done')


original_results = pd.DataFrame()

for js in container:
    js_df = pd.json_normalize(js)
    original_results = pd.concat([original_results, js_df])

original_results.to_csv("original_output.csv", index=False)


cols = {
            'MlsNumber': 'MLS',
            'Property.Address.AddressText': 'Address',
            'Property.PriceUnformattedValue': 'Price',
            'Building.Bedrooms': 'Bedrooms',
            'Building.BathroomTotal': 'Bathrooms',
            'PublicRemarks': 'Details',
            'RelativeDetailsURL': 'URL',
            'Building.StoriesTotal': 'Stories',
            'Land.SizeFrontage': 'Frontage',
            'Property.ParkingSpaceTotal': 'Paring_total',
            'Property.ParkingType': 'ParkingType',
            'Building.Type': 'Building_Type',
            'Property.OwnershipType': 'Ownership_type',
            'Building.SizeInterior': 'Interior_size',
            'Property.Type': 'Property_type',
            'Property.Photo': 'Photo',
            'Media': 'Media',
            'Property.AmmenitiesNearBy': 'AmmenitiesNearBy',
            'Land.AccessType': 'Land_AccessType',
            'AlternateURL.PhotoLink': 'Alternate_PhotoLink',
            'OpenHouseInsertDateUTC': 'OpenHouse_Date',
            'Land.LandscapeFeatures': 'LandscapeFeatures',
            'PriceChangeDateUTC': 'PriceChangeDate',
            'Building.UnitTotal': 'UnitTotal',
            'Land.SizeTotal': 'SizeTotal',
            'Building.Ammenities': 'Ammenities'
        }


results = original_results[list(cols.keys())]
results.reset_index(drop=True, inplace=True)
results.rename(columns=cols, inplace=True)
results['URL'] = 'https://www.realtor.ca' + results['URL'].astype(str)


results.to_csv("output.csv", index=False)


results.head()


results[["Address", "City"]] = results['Address'].str.split("|", n=1, expand = True)
results[["City", "Province_postal"]] = results['City'].str.split(",", n=1, expand = True)
results[["Upper_Bedroom", "Lower_bedrooms"]] = results['Bedrooms'].str.split("+", n=1, expand = True)
results['Photo'] = results['Photo'].str.get(0).apply(lambda x: x.get("HighResPath", None))


final_cols = ['MLS',
'Address',
'City',
'Price',
'Upper_Bedroom',
'Lower_bedrooms',
'Bathrooms',
'Details',
'URL',
'Stories',
'Frontage',
'Paring_total',
'ParkingType',
'Building_Type',
'Ownership_type',
'Interior_size',
'Property_type',
'Photo',
'Media',
'AmmenitiesNearBy',
'Land_AccessType',
'Alternate_PhotoLink',
'OpenHouse_Date',
'LandscapeFeatures',
'PriceChangeDate',
'UnitTotal',
'SizeTotal',
'Ammenities',
'Province_postal']
