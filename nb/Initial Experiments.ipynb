{
 "cells": [
  {
   "cell_type": "code",
   "execution_count": 1,
   "id": "ad9b6395-4b49-46f2-b94a-2b3534f3980e",
   "metadata": {},
   "outputs": [
    {
     "name": "stdout",
     "output_type": "stream",
     "text": [
      "Collecting python-amazon-sp-api\n",
      "  Downloading python_amazon_sp_api-0.18.9-py3-none-any.whl (113 kB)\n",
      "\u001b[2K     \u001b[38;2;114;156;31m━━━━━━━━━━━━━━━━━━━━━━━━━━━━━━━━━━━━━━━\u001b[0m \u001b[32m113.3/113.3 kB\u001b[0m \u001b[31m5.4 MB/s\u001b[0m eta \u001b[36m0:00:00\u001b[0m\n",
      "\u001b[?25hCollecting confuse>=1.4\n",
      "  Downloading confuse-2.0.1-py3-none-any.whl (24 kB)\n",
      "Requirement already satisfied: requests in /Users/scorp/anaconda3/lib/python3.10/site-packages (from python-amazon-sp-api) (2.29.0)\n",
      "Collecting boto3>=1.16.39\n",
      "  Downloading boto3-1.28.40-py3-none-any.whl (135 kB)\n",
      "\u001b[2K     \u001b[38;2;114;156;31m━━━━━━━━━━━━━━━━━━━━━━━━━━━━━━━━━━━━━━\u001b[0m \u001b[32m135.8/135.8 kB\u001b[0m \u001b[31m14.9 MB/s\u001b[0m eta \u001b[36m0:00:00\u001b[0m\n",
      "\u001b[?25hCollecting cachetools>=4.2\n",
      "  Downloading cachetools-5.3.1-py3-none-any.whl (9.3 kB)\n",
      "Collecting s3transfer<0.7.0,>=0.6.0\n",
      "  Downloading s3transfer-0.6.2-py3-none-any.whl (79 kB)\n",
      "\u001b[2K     \u001b[38;2;114;156;31m━━━━━━━━━━━━━━━━━━━━━━━━━━━━━━━━━━━━━━━━\u001b[0m \u001b[32m79.8/79.8 kB\u001b[0m \u001b[31m12.1 MB/s\u001b[0m eta \u001b[36m0:00:00\u001b[0m\n",
      "\u001b[?25hCollecting jmespath<2.0.0,>=0.7.1\n",
      "  Downloading jmespath-1.0.1-py3-none-any.whl (20 kB)\n",
      "Collecting botocore<1.32.0,>=1.31.40\n",
      "  Downloading botocore-1.31.40-py3-none-any.whl (11.2 MB)\n",
      "\u001b[2K     \u001b[38;2;114;156;31m━━━━━━━━━━━━━━━━━━━━━━━━━━━━━━━━━━━━━━━━\u001b[0m \u001b[32m11.2/11.2 MB\u001b[0m \u001b[31m66.2 MB/s\u001b[0m eta \u001b[36m0:00:00\u001b[0m[36m0:00:01\u001b[0m36m0:00:01\u001b[0m\n",
      "\u001b[?25hRequirement already satisfied: pyyaml in /Users/scorp/anaconda3/lib/python3.10/site-packages (from confuse>=1.4->python-amazon-sp-api) (6.0)\n",
      "Requirement already satisfied: certifi>=2017.4.17 in /Users/scorp/anaconda3/lib/python3.10/site-packages (from requests->python-amazon-sp-api) (2022.12.7)\n",
      "Requirement already satisfied: urllib3<1.27,>=1.21.1 in /Users/scorp/anaconda3/lib/python3.10/site-packages (from requests->python-amazon-sp-api) (1.26.15)\n",
      "Requirement already satisfied: idna<4,>=2.5 in /Users/scorp/anaconda3/lib/python3.10/site-packages (from requests->python-amazon-sp-api) (3.4)\n",
      "Requirement already satisfied: charset-normalizer<4,>=2 in /Users/scorp/anaconda3/lib/python3.10/site-packages (from requests->python-amazon-sp-api) (2.0.4)\n",
      "Requirement already satisfied: python-dateutil<3.0.0,>=2.1 in /Users/scorp/anaconda3/lib/python3.10/site-packages (from botocore<1.32.0,>=1.31.40->boto3>=1.16.39->python-amazon-sp-api) (2.8.2)\n",
      "Requirement already satisfied: six>=1.5 in /Users/scorp/anaconda3/lib/python3.10/site-packages (from python-dateutil<3.0.0,>=2.1->botocore<1.32.0,>=1.31.40->boto3>=1.16.39->python-amazon-sp-api) (1.16.0)\n",
      "Installing collected packages: jmespath, confuse, cachetools, botocore, s3transfer, boto3, python-amazon-sp-api\n",
      "Successfully installed boto3-1.28.40 botocore-1.31.40 cachetools-5.3.1 confuse-2.0.1 jmespath-1.0.1 python-amazon-sp-api-0.18.9 s3transfer-0.6.2\n"
     ]
    }
   ],
   "source": [
    "!pip install python-amazon-sp-api"
   ]
  },
  {
   "cell_type": "code",
   "execution_count": 2,
   "id": "1fe92971-d47d-4d1f-a859-39cbe65521d1",
   "metadata": {},
   "outputs": [
    {
     "ename": "SyntaxError",
     "evalue": "invalid syntax (3641796179.py, line 22)",
     "output_type": "error",
     "traceback": [
      "\u001b[0;36m  Cell \u001b[0;32mIn[2], line 22\u001b[0;36m\u001b[0m\n\u001b[0;31m    Feeds().submit_feed(self, <feed_type>, <file_or_bytes_io>, content_type='text/tsv', **kwargs)\u001b[0m\n\u001b[0m                              ^\u001b[0m\n\u001b[0;31mSyntaxError\u001b[0m\u001b[0;31m:\u001b[0m invalid syntax\n"
     ]
    }
   ],
   "source": [
    "from sp_api.api import Orders\n",
    "from sp_api.api import Reports\n",
    "from sp_api.api import Feeds\n",
    "from sp_api.base import SellingApiException\n",
    "from sp_api.base.reportTypes import ReportType\n",
    "from datetime import datetime, timedelta\n",
    "\n",
    "# orders API\n",
    "try:\n",
    "    res = Orders().get_orders(CreatedAfter=(datetime.utcnow() - timedelta(days=7)).isoformat())\n",
    "    print(res.payload)  # json data\n",
    "except SellingApiException as ex:\n",
    "    print(ex)\n",
    "\n",
    "\n",
    "# report request     \n",
    "createReportResponse = Reports().create_report(reportType=ReportType.GET_MERCHANT_LISTINGS_ALL_DATA)\n",
    "\n",
    "# submit feed\n",
    "# feeds can be submitted like explained in Amazon's docs, or simply by calling submit_feed\n",
    "\n",
    "Feeds().submit_feed(self, <feed_type>, <file_or_bytes_io>, content_type='text/tsv', **kwargs)\n",
    "\n",
    "# PII Data\n",
    "\n",
    "Orders(restricted_data_token='<token>').get_orders(CreatedAfter=(datetime.utcnow() - timedelta(days=7)).isoformat())\n",
    "\n",
    "# or use the shortcut\n",
    "orders = Orders().get_orders(\n",
    "    RestrictedResources=['buyerInfo', 'shippingAddress'],\n",
    "    LastUpdatedAfter=(datetime.utcnow() - timedelta(days=1)).isoformat()\n",
    ")"
   ]
  },
  {
   "cell_type": "code",
   "execution_count": null,
   "id": "fe571fb8-79e4-461f-ac53-39b3feccca10",
   "metadata": {},
   "outputs": [],
   "source": []
  }
 ],
 "metadata": {
  "kernelspec": {
   "display_name": "Python 3 (ipykernel)",
   "language": "python",
   "name": "python3"
  },
  "language_info": {
   "codemirror_mode": {
    "name": "ipython",
    "version": 3
   },
   "file_extension": ".py",
   "mimetype": "text/x-python",
   "name": "python",
   "nbconvert_exporter": "python",
   "pygments_lexer": "ipython3",
   "version": "3.10.11"
  }
 },
 "nbformat": 4,
 "nbformat_minor": 5
}
