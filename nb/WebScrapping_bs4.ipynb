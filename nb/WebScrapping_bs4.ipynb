{
 "cells": [
  {
   "cell_type": "code",
   "execution_count": null,
   "id": "cf7c7709-672c-4d27-ae0e-f9cced5397f7",
   "metadata": {},
   "outputs": [],
   "source": [
    "from bs4 import BeautifulSoup\n",
    "import requests\n",
    "import pandas as pd\n",
    "import time\n",
    "from logger import logger\n",
    "import shutil, os, re"
   ]
  },
  {
   "cell_type": "code",
   "execution_count": null,
   "id": "01927821-6262-4b72-ab23-c30c95b3076e",
   "metadata": {},
   "outputs": [],
   "source": [
    "csv_results_dir = '../files/csv/'\n",
    "\n",
    "\n",
    "scrap_old_flag = 0\n",
    "\n",
    "if scrap_old_flag==1:\n",
    "    shutil.rmtree(csv_results_dir, ignore_errors=True)\n",
    "    os.mkdir(csv_results_dir)"
   ]
  },
  {
   "cell_type": "code",
   "execution_count": null,
   "id": "c521fa63-d38d-483e-8966-4987caf1f256",
   "metadata": {},
   "outputs": [],
   "source": [
    "# url = \"https://www.amazon.com/gp/bestsellers/books\"\n",
    "# HEADERS = ({'User-Agent': 'Mozilla/5.0 (Macintosh; Intel Mac OS X 10_15_7) AppleWebKit/605.1.15 (KHTML, like Gecko) Version/17.0 Safari/605.1.15', 'Accept-Language' : 'en-CA,en-US;q=0.9,en;q=0.8' })"
   ]
  },
  {
   "cell_type": "code",
   "execution_count": null,
   "id": "5a377004-5a95-4196-a444-43535c58aefa",
   "metadata": {},
   "outputs": [],
   "source": [
    "# page = requests.get(url, headers = HEADERS)\n",
    "# soup = BeautifulSoup(page.text, 'html' )"
   ]
  },
  {
   "cell_type": "code",
   "execution_count": null,
   "id": "cefd4356-f4fa-4a7a-acd4-45ba397dceba",
   "metadata": {},
   "outputs": [],
   "source": [
    "# books = soup.find_all(\"div\", attrs = {'a-column a-span12 a-text-center _cDEzb_grid-column_2hIsc'})"
   ]
  },
  {
   "cell_type": "code",
   "execution_count": null,
   "id": "58a3f023-bcd8-474a-b92b-56d004101ab1",
   "metadata": {},
   "outputs": [],
   "source": [
    "# book = books[11]\n",
    "# book"
   ]
  },
  {
   "cell_type": "code",
   "execution_count": null,
   "id": "daff41bd-cc4c-4ae2-8ce8-266b61203aed",
   "metadata": {},
   "outputs": [],
   "source": [
    "# for book in books:\n",
    "#     book_values = {\n",
    "#         \"rank\" : get_rank(book),\n",
    "#         \"asin\" : get_asin(book),\n",
    "#         \"name\": get_name(book),\n",
    "#         \"author\" : get_author(book),\n",
    "#         \"type_case\" :get_type_case(book),\n",
    "#         \"price\" : get_price(book),\n",
    "#         \"link\" : get_link(book)\n",
    "#     }\n",
    "    \n",
    "#     ranking_df = pd.concat([ranking_df, pd.DataFrame.from_dict([book_values])], ignore_index=True)\n",
    "# ranking_df"
   ]
  },
  {
   "cell_type": "code",
   "execution_count": null,
   "id": "b56ce0d2-dfaf-4322-9e1e-ac845eaf652e",
   "metadata": {},
   "outputs": [],
   "source": [
    "def get_rank(book_div):\n",
    "    try:\n",
    "        rank = book_div.find(\"span\", attrs =\"zg-bdg-text\").text\n",
    "        return rank\n",
    "    except:\n",
    "        return \"\"\n",
    "    \n",
    "    \n",
    "def get_asin(book_div):\n",
    "    try:\n",
    "        asin = book_div.find(\"a\", attrs=\"a-link-normal a-text-normal\").get(\"href\").split(\"ref\")[0].split(\"dp\")[-1].replace(\"/\",\"\")\n",
    "        return asin\n",
    "    except:\n",
    "        return \"\"\n",
    "    \n",
    "def get_name(book_div):\n",
    "    try:\n",
    "        name = book_div.find(\"img\").get(\"alt\")\n",
    "        # \"name\" : book.find(\"div\", attrs='_cDEzb_p13n-sc-css-line-clamp-1_1Fn1y').text,\n",
    "        return name\n",
    "    except:\n",
    "        return \"\"\n",
    "    \n",
    "def get_author(book_div):\n",
    "    try:\n",
    "        author = book_div.find_all(\"div\", attrs='_cDEzb_p13n-sc-css-line-clamp-1_1Fn1y')[-1].text\n",
    "        return author\n",
    "    except:\n",
    "        return \"\"\n",
    "    \n",
    "def get_type_case(book_div):\n",
    "    try:\n",
    "        type_case = book_find(\"span\", attrs= \"a-size-small a-color-secondary a-text-normal\").text\n",
    "        return type_case\n",
    "    except:\n",
    "        return \"\"\n",
    "    \n",
    "def get_price(book_div):\n",
    "    try:\n",
    "        price = book_div.find('span', attrs= \"_cDEzb_p13n-sc-price_3mJ9Z\").text\n",
    "        return price\n",
    "    except:\n",
    "        return \"\"\n",
    "    \n",
    "def get_link(book_div):\n",
    "    try:\n",
    "        link = \"https://amazon.com\"+ book_div.find(\"a\", attrs=\"a-link-normal a-text-normal\").get(\"href\").split(\"ref\")[0]\n",
    "        return link\n",
    "    except:\n",
    "        return \"\"\n",
    "    \n",
    "def get_category(soup):\n",
    "    try:\n",
    "        category = soup.find(\"title\").text.split(\":\")[1].strip().replace(\"Best \",\"\")[:30]\n",
    "        return category\n",
    "    except:\n",
    "        return \"\"\n"
   ]
  },
  {
   "cell_type": "code",
   "execution_count": 23,
   "id": "3ead959b-89ac-4b7e-83ee-9dc9cb34e663",
   "metadata": {},
   "outputs": [
    {
     "name": "stdout",
     "output_type": "stream",
     "text": [
      "Processing page 8 - Category undefined with 0 books\n",
      "\n",
      "Processing page 11 - Category undefined with 0 books\n",
      "\n",
      "PAGE 12 - https://www.amazon.com/gp/bestsellers/books/12/ref=pd_zg_hrsr_books \t\t ----------------ERROR - reading page\n",
      "PAGE 13 - https://www.amazon.com/gp/bestsellers/books/13/ref=pd_zg_hrsr_books \t\t ----------------ERROR - reading page\n",
      "Processing page 14 - Category undefined with 0 books\n",
      "\n"
     ]
    }
   ],
   "source": [
    "HEADERS = ({'User-Agent': 'Mozilla/5.0 (Macintosh; Intel Mac OS X 10_15_7) AppleWebKit/605.1.15 (KHTML, like Gecko) Version/17.0 Safari/605.1.15', 'Accept-Language' : 'en-CA,en-US;q=0.9,en;q=0.8' })\n",
    "# writer = pd.ExcelWriter(\"Ranks.xlsx\")\n",
    "\n",
    "for i in [8, 11, 12, 13, 14]:\n",
    "    \n",
    "    ranking_df = pd.DataFrame()\n",
    "    url = f\"https://www.amazon.com/gp/bestsellers/books/{str(i)}/ref=pd_zg_hrsr_books\"\n",
    "    #print(url)\n",
    "    \n",
    "    page = requests.get(url, headers = HEADERS)\n",
    "    \n",
    "    if(str(page) == \"<Response [200]>\"):\n",
    "        soup = BeautifulSoup(page.text, 'html')\n",
    "        category = get_category(soup)\n",
    "        books = soup.find_all(\"div\", attrs = {'a-column a-span12 a-text-center _cDEzb_grid-column_2hIsc'})\n",
    "        \n",
    "        print(f\"Processing page {i} - Category {category} with {len(books)} books\")\n",
    "        logger(f\"Processing page {i} - Category {category} with {len(books)} books\", logfile=\"log.txt\")\n",
    "        \n",
    "        if len(books)>0:\n",
    "            for book in books:\n",
    "                book_values = {\n",
    "                    \"category\": category,\n",
    "                    \"rank\" : get_rank(book),\n",
    "                    \"asin\" : get_asin(book),\n",
    "                    \"name\": get_name(book),\n",
    "                    \"author\" : get_author(book),\n",
    "                    \"type_case\" :get_type_case(book),\n",
    "                    \"price\" : get_price(book),\n",
    "                    \"link\" : get_link(book)\n",
    "                }\n",
    "\n",
    "                ranking_df = pd.concat([ranking_df, pd.DataFrame.from_dict([book_values])], ignore_index=True)\n",
    "            ranking_df.to_csv(csv_results_dir+f\"{i} - {category}.csv\", index=False)\n",
    "        else:\n",
    "            print(\"\")\n",
    "            logger(f\"PAGE {i} - {url} \\t\\t ----------------ERROR - NO BOOKS found\", logfile=\"log.txt\")\n",
    "            logger(f'{i}, ', logfile = \"error_list.txt\")\n",
    "    else:\n",
    "        print(f\"PAGE {i} - {url} \\t\\t ----------------ERROR - reading page\")\n",
    "        logger(f\"PAGE {i} - {url} \\t\\t ----------------ERROR - reading page\", logfile=\"log.txt\")\n",
    "        logger(f'{i}, ', logfile = \"error_list.txt\")\n",
    "    time.sleep(5)\n",
    "# writer.close()"
   ]
  },
  {
   "cell_type": "code",
   "execution_count": null,
   "id": "042b08c9-c5dd-40df-966c-a4a8ac888026",
   "metadata": {},
   "outputs": [],
   "source": []
  }
 ],
 "metadata": {
  "kernelspec": {
   "display_name": "Python 3 (ipykernel)",
   "language": "python",
   "name": "python3"
  },
  "language_info": {
   "codemirror_mode": {
    "name": "ipython",
    "version": 3
   },
   "file_extension": ".py",
   "mimetype": "text/x-python",
   "name": "python",
   "nbconvert_exporter": "python",
   "pygments_lexer": "ipython3",
   "version": "3.10.11"
  }
 },
 "nbformat": 4,
 "nbformat_minor": 5
}
